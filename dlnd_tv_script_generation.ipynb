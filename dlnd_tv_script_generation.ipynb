{
 "cells": [
  {
   "cell_type": "markdown",
   "metadata": {},
   "source": [
    "# TV Script Generation\n",
    "In this project, you'll generate your own [Simpsons](https://en.wikipedia.org/wiki/The_Simpsons) TV scripts using RNNs.  You'll be using part of the [Simpsons dataset](https://www.kaggle.com/wcukierski/the-simpsons-by-the-data) of scripts from 27 seasons.  The Neural Network you'll build will generate a new TV script for a scene at [Moe's Tavern](https://simpsonswiki.com/wiki/Moe's_Tavern).\n",
    "## Get the Data\n",
    "The data is already provided for you.  You'll be using a subset of the original dataset.  It consists of only the scenes in Moe's Tavern.  This doesn't include other versions of the tavern, like \"Moe's Cavern\", \"Flaming Moe's\", \"Uncle Moe's Family Feed-Bag\", etc.."
   ]
  },
  {
   "cell_type": "code",
   "execution_count": 1,
   "metadata": {},
   "outputs": [],
   "source": [
    "\"\"\"\n",
    "DON'T MODIFY ANYTHING IN THIS CELL\n",
    "\"\"\"\n",
    "import helper\n",
    "\n",
    "data_dir = './data/simpsons/moes_tavern_lines.txt'\n",
    "text = helper.load_data(data_dir)\n",
    "# Ignore notice, since we don't use it for analysing the data\n",
    "text = text[81:]"
   ]
  },
  {
   "cell_type": "markdown",
   "metadata": {},
   "source": [
    "## Explore the Data\n",
    "Play around with `view_sentence_range` to view different parts of the data."
   ]
  },
  {
   "cell_type": "code",
   "execution_count": 2,
   "metadata": {},
   "outputs": [
    {
     "name": "stdout",
     "output_type": "stream",
     "text": [
      "Dataset Stats\n",
      "Roughly the number of unique words: 11492\n",
      "Number of scenes: 262\n",
      "Average number of sentences in each scene: 15.251908396946565\n",
      "Number of lines: 4258\n",
      "Average number of words in each line: 11.50164396430249\n",
      "\n",
      "The sentences 0 to 10:\n",
      "\n",
      "Moe_Szyslak: (INTO PHONE) Moe's Tavern. Where the elite meet to drink.\n",
      "Bart_Simpson: Eh, yeah, hello, is Mike there? Last name, Rotch.\n",
      "Moe_Szyslak: (INTO PHONE) Hold on, I'll check. (TO BARFLIES) Mike Rotch. Mike Rotch. Hey, has anybody seen Mike Rotch, lately?\n",
      "Moe_Szyslak: (INTO PHONE) Listen you little puke. One of these days I'm gonna catch you, and I'm gonna carve my name on your back with an ice pick.\n",
      "Moe_Szyslak: What's the matter Homer? You're not your normal effervescent self.\n",
      "Homer_Simpson: I got my problems, Moe. Give me another one.\n",
      "Moe_Szyslak: Homer, hey, you should not drink to forget your problems.\n",
      "Barney_Gumble: Yeah, you should only drink to enhance your social skills.\n",
      "\n"
     ]
    }
   ],
   "source": [
    "view_sentence_range = (0, 10)\n",
    "\n",
    "\"\"\"\n",
    "DON'T MODIFY ANYTHING IN THIS CELL\n",
    "\"\"\"\n",
    "import numpy as np\n",
    "\n",
    "print('Dataset Stats')\n",
    "print('Roughly the number of unique words: {}'.format(len({word: None for word in text.split()})))\n",
    "scenes = text.split('\\n\\n')\n",
    "print('Number of scenes: {}'.format(len(scenes)))\n",
    "sentence_count_scene = [scene.count('\\n') for scene in scenes]\n",
    "print('Average number of sentences in each scene: {}'.format(np.average(sentence_count_scene)))\n",
    "\n",
    "sentences = [sentence for scene in scenes for sentence in scene.split('\\n')]\n",
    "print('Number of lines: {}'.format(len(sentences)))\n",
    "word_count_sentence = [len(sentence.split()) for sentence in sentences]\n",
    "print('Average number of words in each line: {}'.format(np.average(word_count_sentence)))\n",
    "\n",
    "print()\n",
    "print('The sentences {} to {}:'.format(*view_sentence_range))\n",
    "print('\\n'.join(text.split('\\n')[view_sentence_range[0]:view_sentence_range[1]]))"
   ]
  },
  {
   "cell_type": "markdown",
   "metadata": {},
   "source": [
    "## Implement Preprocessing Functions\n",
    "The first thing to do to any dataset is preprocessing.  Implement the following preprocessing functions below:\n",
    "- Lookup Table\n",
    "- Tokenize Punctuation\n",
    "\n",
    "### Lookup Table\n",
    "To create a word embedding, you first need to transform the words to ids.  In this function, create two dictionaries:\n",
    "- Dictionary to go from the words to an id, we'll call `vocab_to_int`\n",
    "- Dictionary to go from the id to word, we'll call `int_to_vocab`\n",
    "\n",
    "Return these dictionaries in the following tuple `(vocab_to_int, int_to_vocab)`"
   ]
  },
  {
   "cell_type": "code",
   "execution_count": 3,
   "metadata": {},
   "outputs": [
    {
     "name": "stderr",
     "output_type": "stream",
     "text": [
      "c:\\users\\mschrah\\appdata\\local\\conda\\conda\\envs\\tensorflow-gpu\\lib\\site-packages\\h5py\\__init__.py:36: FutureWarning: Conversion of the second argument of issubdtype from `float` to `np.floating` is deprecated. In future, it will be treated as `np.float64 == np.dtype(float).type`.\n",
      "  from ._conv import register_converters as _register_converters\n"
     ]
    },
    {
     "name": "stdout",
     "output_type": "stream",
     "text": [
      "Tests Passed\n"
     ]
    }
   ],
   "source": [
    "import numpy as np\n",
    "import problem_unittests as tests\n",
    "from collections import Counter\n",
    "\n",
    "def create_lookup_tables(text):\n",
    "    \"\"\"\n",
    "    Create lookup tables for vocabulary\n",
    "    :param text: The text of tv scripts split into words\n",
    "    :return: A tuple of dicts (vocab_to_int, int_to_vocab)\n",
    "    \"\"\"\n",
    "    # TODO: Implement Function\n",
    "    counts = Counter(text)\n",
    "    vocab = sorted(counts, key=counts.get, reverse=True)\n",
    "\n",
    "    vocab_to_int = {word: i for i, word in enumerate(vocab)}\n",
    "    int_to_vocab = dict(enumerate(vocab))\n",
    "    \n",
    "    return vocab_to_int, int_to_vocab\n",
    "\n",
    "\n",
    "\"\"\"\n",
    "DON'T MODIFY ANYTHING IN THIS CELL THAT IS BELOW THIS LINE\n",
    "\"\"\"\n",
    "tests.test_create_lookup_tables(create_lookup_tables)"
   ]
  },
  {
   "cell_type": "markdown",
   "metadata": {},
   "source": [
    "### Tokenize Punctuation\n",
    "We'll be splitting the script into a word array using spaces as delimiters.  However, punctuations like periods and exclamation marks make it hard for the neural network to distinguish between the word \"bye\" and \"bye!\".\n",
    "\n",
    "Implement the function `token_lookup` to return a dict that will be used to tokenize symbols like \"!\" into \"||Exclamation_Mark||\".  Create a dictionary for the following symbols where the symbol is the key and value is the token:\n",
    "- Period ( . )\n",
    "- Comma ( , )\n",
    "- Quotation Mark ( \" )\n",
    "- Semicolon ( ; )\n",
    "- Exclamation mark ( ! )\n",
    "- Question mark ( ? )\n",
    "- Left Parentheses ( ( )\n",
    "- Right Parentheses ( ) )\n",
    "- Dash ( -- )\n",
    "- Return ( \\n )\n",
    "\n",
    "This dictionary will be used to token the symbols and add the delimiter (space) around it.  This separates the symbols as it's own word, making it easier for the neural network to predict on the next word. Make sure you don't use a token that could be confused as a word. Instead of using the token \"dash\", try using something like \"||dash||\"."
   ]
  },
  {
   "cell_type": "code",
   "execution_count": 4,
   "metadata": {},
   "outputs": [
    {
     "name": "stdout",
     "output_type": "stream",
     "text": [
      "Tests Passed\n"
     ]
    }
   ],
   "source": [
    "def token_lookup():\n",
    "    \"\"\"\n",
    "    Generate a dict to turn punctuation into a token.\n",
    "    :return: Tokenize dictionary where the key is the punctuation and the value is the token\n",
    "    \"\"\"\n",
    "    # TODO: Implement Function\n",
    "    token_dict = {'.' : '||Peroid||',\n",
    "                  ',' : '||Comma||',\n",
    "                  '\"' : '||Quotation_Mark||',\n",
    "                  ';' : '||Semicolon||',\n",
    "                  '!' : '||Exclamation_Mark||',\n",
    "                  '?' : '||Question_Mark||',\n",
    "                  '(' : '||Left_Parentheses||',\n",
    "                  ')' : '||Right_Parentheses||',\n",
    "                  '--' : '||Dash||',\n",
    "                  '\\n' : '||Return||'\n",
    "    }\n",
    "    return token_dict\n",
    "\n",
    "\"\"\"\n",
    "DON'T MODIFY ANYTHING IN THIS CELL THAT IS BELOW THIS LINE\n",
    "\"\"\"\n",
    "tests.test_tokenize(token_lookup)"
   ]
  },
  {
   "cell_type": "markdown",
   "metadata": {},
   "source": [
    "## Preprocess all the data and save it\n",
    "Running the code cell below will preprocess all the data and save it to file."
   ]
  },
  {
   "cell_type": "code",
   "execution_count": 5,
   "metadata": {},
   "outputs": [],
   "source": [
    "\"\"\"\n",
    "DON'T MODIFY ANYTHING IN THIS CELL\n",
    "\"\"\"\n",
    "# Preprocess Training, Validation, and Testing Data\n",
    "helper.preprocess_and_save_data(data_dir, token_lookup, create_lookup_tables)"
   ]
  },
  {
   "cell_type": "markdown",
   "metadata": {},
   "source": [
    "# Check Point\n",
    "This is your first checkpoint. If you ever decide to come back to this notebook or have to restart the notebook, you can start from here. The preprocessed data has been saved to disk."
   ]
  },
  {
   "cell_type": "code",
   "execution_count": 6,
   "metadata": {},
   "outputs": [],
   "source": [
    "\"\"\"\n",
    "DON'T MODIFY ANYTHING IN THIS CELL\n",
    "\"\"\"\n",
    "import helper\n",
    "import numpy as np\n",
    "import problem_unittests as tests\n",
    "\n",
    "int_text, vocab_to_int, int_to_vocab, token_dict = helper.load_preprocess()"
   ]
  },
  {
   "cell_type": "markdown",
   "metadata": {},
   "source": [
    "## Build the Neural Network\n",
    "You'll build the components necessary to build a RNN by implementing the following functions below:\n",
    "- get_inputs\n",
    "- get_init_cell\n",
    "- get_embed\n",
    "- build_rnn\n",
    "- build_nn\n",
    "- get_batches\n",
    "\n",
    "### Check the Version of TensorFlow and Access to GPU"
   ]
  },
  {
   "cell_type": "code",
   "execution_count": 7,
   "metadata": {},
   "outputs": [
    {
     "name": "stdout",
     "output_type": "stream",
     "text": [
      "TensorFlow Version: 1.8.0\n",
      "Default GPU Device: /device:GPU:0\n"
     ]
    }
   ],
   "source": [
    "\"\"\"\n",
    "DON'T MODIFY ANYTHING IN THIS CELL\n",
    "\"\"\"\n",
    "from distutils.version import LooseVersion\n",
    "import warnings\n",
    "import tensorflow as tf\n",
    "\n",
    "# Check TensorFlow Version\n",
    "assert LooseVersion(tf.__version__) >= LooseVersion('1.3'), 'Please use TensorFlow version 1.3 or newer'\n",
    "print('TensorFlow Version: {}'.format(tf.__version__))\n",
    "\n",
    "# Check for a GPU\n",
    "if not tf.test.gpu_device_name():\n",
    "    warnings.warn('No GPU found. Please use a GPU to train your neural network.')\n",
    "else:\n",
    "    print('Default GPU Device: {}'.format(tf.test.gpu_device_name()))"
   ]
  },
  {
   "cell_type": "markdown",
   "metadata": {},
   "source": [
    "### Input\n",
    "Implement the `get_inputs()` function to create TF Placeholders for the Neural Network.  It should create the following placeholders:\n",
    "- Input text placeholder named \"input\" using the [TF Placeholder](https://www.tensorflow.org/api_docs/python/tf/placeholder) `name` parameter.\n",
    "- Targets placeholder\n",
    "- Learning Rate placeholder\n",
    "\n",
    "Return the placeholders in the following tuple `(Input, Targets, LearningRate)`"
   ]
  },
  {
   "cell_type": "code",
   "execution_count": 8,
   "metadata": {},
   "outputs": [
    {
     "name": "stdout",
     "output_type": "stream",
     "text": [
      "Tests Passed\n"
     ]
    }
   ],
   "source": [
    "def get_inputs():\n",
    "    \"\"\"\n",
    "    Create TF Placeholders for input, targets, and learning rate.\n",
    "    :return: Tuple (input, targets, learning rate)\n",
    "    \"\"\"\n",
    "    # TODO: Implement Function\n",
    "    input_ = tf.placeholder(tf.int32, [None, None], name = 'input')\n",
    "    targets = tf.placeholder(tf.int32, [None, None], name = 'targets')\n",
    "    learning_rate = tf.placeholder(tf.float32, name = 'learning_rate')\n",
    "    \n",
    "    return input_, targets, learning_rate\n",
    "\n",
    "\"\"\"\n",
    "DON'T MODIFY ANYTHING IN THIS CELL THAT IS BELOW THIS LINE\n",
    "\"\"\"\n",
    "tests.test_get_inputs(get_inputs)"
   ]
  },
  {
   "cell_type": "markdown",
   "metadata": {},
   "source": [
    "### Build RNN Cell and Initialize\n",
    "Stack one or more [`BasicLSTMCells`](https://www.tensorflow.org/api_docs/python/tf/contrib/rnn/BasicLSTMCell) in a [`MultiRNNCell`](https://www.tensorflow.org/api_docs/python/tf/contrib/rnn/MultiRNNCell).\n",
    "- The Rnn size should be set using `rnn_size`\n",
    "- Initalize Cell State using the MultiRNNCell's [`zero_state()`](https://www.tensorflow.org/api_docs/python/tf/contrib/rnn/MultiRNNCell#zero_state) function\n",
    "    - Apply the name \"initial_state\" to the initial state using [`tf.identity()`](https://www.tensorflow.org/api_docs/python/tf/identity)\n",
    "\n",
    "Return the cell and initial state in the following tuple `(Cell, InitialState)`"
   ]
  },
  {
   "cell_type": "code",
   "execution_count": 13,
   "metadata": {},
   "outputs": [
    {
     "name": "stdout",
     "output_type": "stream",
     "text": [
      "Tests Passed\n"
     ]
    }
   ],
   "source": [
    "def get_init_cell(batch_size, rnn_size):\n",
    "    \"\"\"\n",
    "    Create an RNN Cell and initialize it.\n",
    "    :param batch_size: Size of batches\n",
    "    :param rnn_size: Size of RNNs\n",
    "    :return: Tuple (cell, initialize state)\n",
    "    \"\"\"\n",
    "    # TODO: Implement Function\n",
    "    lstm = tf.contrib.rnn.BasicLSTMCell(rnn_size)\n",
    "    \n",
    "    #add drop to cell\n",
    "    drop = tf.contrib.rnn.DropoutWrapper(lstm, output_keep_prob=0.5)\n",
    "    \n",
    "    #stack up multiple lstm layers\n",
    "    #cell = tf.contrib.rnn.MultiRNNCell([drop] * 1)\n",
    "    cell = tf.contrib.rnn.MultiRNNCell([lstm])\n",
    "    \n",
    "    #get initial state of cell\n",
    "    initial_state = cell.zero_state(batch_size, tf.float32)\n",
    "    initial_state = tf.identity(initial_state, name='initial_state')\n",
    "    \n",
    "    return cell, initial_state\n",
    "\n",
    "\"\"\"\n",
    "DON'T MODIFY ANYTHING IN THIS CELL THAT IS BELOW THIS LINE\n",
    "\"\"\"\n",
    "tests.test_get_init_cell(get_init_cell)"
   ]
  },
  {
   "cell_type": "markdown",
   "metadata": {},
   "source": [
    "### Word Embedding\n",
    "Apply embedding to `input_data` using TensorFlow.  Return the embedded sequence."
   ]
  },
  {
   "cell_type": "code",
   "execution_count": 14,
   "metadata": {},
   "outputs": [
    {
     "name": "stdout",
     "output_type": "stream",
     "text": [
      "Tests Passed\n"
     ]
    }
   ],
   "source": [
    "def get_embed(input_data, vocab_size, embed_dim):\n",
    "    \"\"\"\n",
    "    Create embedding for <input_data>.\n",
    "    :param input_data: TF placeholder for text input.\n",
    "    :param vocab_size: Number of words in vocabulary.\n",
    "    :param embed_dim: Number of embedding dimensions\n",
    "    :return: Embedded input.\n",
    "    \"\"\"\n",
    "    # TODO: Implement Function\n",
    "    embedding = tf.Variable(tf.random_uniform((vocab_size, embed_dim), -1, -1))\n",
    "    embed = tf.nn.embedding_lookup(embedding, input_data)\n",
    "    \n",
    "    return embed\n",
    "\n",
    "\n",
    "\"\"\"\n",
    "DON'T MODIFY ANYTHING IN THIS CELL THAT IS BELOW THIS LINE\n",
    "\"\"\"\n",
    "tests.test_get_embed(get_embed)"
   ]
  },
  {
   "cell_type": "markdown",
   "metadata": {},
   "source": [
    "### Build RNN\n",
    "You created a RNN Cell in the `get_init_cell()` function.  Time to use the cell to create a RNN.\n",
    "- Build the RNN using the [`tf.nn.dynamic_rnn()`](https://www.tensorflow.org/api_docs/python/tf/nn/dynamic_rnn)\n",
    " - Apply the name \"final_state\" to the final state using [`tf.identity()`](https://www.tensorflow.org/api_docs/python/tf/identity)\n",
    "\n",
    "Return the outputs and final_state state in the following tuple `(Outputs, FinalState)` "
   ]
  },
  {
   "cell_type": "code",
   "execution_count": 15,
   "metadata": {},
   "outputs": [
    {
     "name": "stdout",
     "output_type": "stream",
     "text": [
      "Tests Passed\n"
     ]
    }
   ],
   "source": [
    "def build_rnn(cell, inputs):\n",
    "    \"\"\"\n",
    "    Create a RNN using a RNN Cell\n",
    "    :param cell: RNN Cell\n",
    "    :param inputs: Input text data\n",
    "    :return: Tuple (Outputs, Final State)\n",
    "    \"\"\"\n",
    "    # TODO: Implement Function\n",
    "    outputs, final_state = tf.nn.dynamic_rnn(cell, inputs, dtype=tf.float32)\n",
    "    final_state = tf.identity(final_state, name='final_state')\n",
    "    \n",
    "    return outputs, final_state\n",
    "\n",
    "\"\"\"\n",
    "DON'T MODIFY ANYTHING IN THIS CELL THAT IS BELOW THIS LINE\n",
    "\"\"\"\n",
    "tests.test_build_rnn(build_rnn)"
   ]
  },
  {
   "cell_type": "markdown",
   "metadata": {},
   "source": [
    "### Build the Neural Network\n",
    "Apply the functions you implemented above to:\n",
    "- Apply embedding to `input_data` using your `get_embed(input_data, vocab_size, embed_dim)` function.\n",
    "- Build RNN using `cell` and your `build_rnn(cell, inputs)` function.\n",
    "- Apply a fully connected layer with a linear activation and `vocab_size` as the number of outputs.\n",
    "\n",
    "Return the logits and final state in the following tuple (Logits, FinalState) "
   ]
  },
  {
   "cell_type": "code",
   "execution_count": 16,
   "metadata": {},
   "outputs": [
    {
     "ename": "AssertionError",
     "evalue": "Final state wrong shape.  Found shape (2, 2, 128, 256)",
     "output_type": "error",
     "traceback": [
      "\u001b[1;31m---------------------------------------------------------------------------\u001b[0m",
      "\u001b[1;31mAssertionError\u001b[0m                            Traceback (most recent call last)",
      "\u001b[1;32m<ipython-input-16-ea7de103f276>\u001b[0m in \u001b[0;36m<module>\u001b[1;34m()\u001b[0m\n\u001b[0;32m     27\u001b[0m \u001b[0mDON\u001b[0m\u001b[0;31m'\u001b[0m\u001b[0mT\u001b[0m \u001b[0mMODIFY\u001b[0m \u001b[0mANYTHING\u001b[0m \u001b[0mIN\u001b[0m \u001b[0mTHIS\u001b[0m \u001b[0mCELL\u001b[0m \u001b[0mTHAT\u001b[0m \u001b[0mIS\u001b[0m \u001b[0mBELOW\u001b[0m \u001b[0mTHIS\u001b[0m \u001b[0mLINE\u001b[0m\u001b[1;33m\u001b[0m\u001b[0m\n\u001b[0;32m     28\u001b[0m \"\"\"\n\u001b[1;32m---> 29\u001b[1;33m \u001b[0mtests\u001b[0m\u001b[1;33m.\u001b[0m\u001b[0mtest_build_nn\u001b[0m\u001b[1;33m(\u001b[0m\u001b[0mbuild_nn\u001b[0m\u001b[1;33m)\u001b[0m\u001b[1;33m\u001b[0m\u001b[0m\n\u001b[0m",
      "\u001b[1;32mU:\\tv-script-generation\\problem_unittests.py\u001b[0m in \u001b[0;36mtest_build_nn\u001b[1;34m(build_nn)\u001b[0m\n\u001b[0;32m    265\u001b[0m             \u001b[1;34m'Outputs has wrong shape.  Found shape {}'\u001b[0m\u001b[1;33m.\u001b[0m\u001b[0mformat\u001b[0m\u001b[1;33m(\u001b[0m\u001b[0mlogits\u001b[0m\u001b[1;33m.\u001b[0m\u001b[0mget_shape\u001b[0m\u001b[1;33m(\u001b[0m\u001b[1;33m)\u001b[0m\u001b[1;33m)\u001b[0m\u001b[1;33m\u001b[0m\u001b[0m\n\u001b[0;32m    266\u001b[0m         \u001b[1;32massert\u001b[0m \u001b[0mfinal_state\u001b[0m\u001b[1;33m.\u001b[0m\u001b[0mget_shape\u001b[0m\u001b[1;33m(\u001b[0m\u001b[1;33m)\u001b[0m\u001b[1;33m.\u001b[0m\u001b[0mas_list\u001b[0m\u001b[1;33m(\u001b[0m\u001b[1;33m)\u001b[0m \u001b[1;33m==\u001b[0m \u001b[1;33m[\u001b[0m\u001b[0mtest_rnn_layer_size\u001b[0m\u001b[1;33m,\u001b[0m \u001b[1;36m2\u001b[0m\u001b[1;33m,\u001b[0m \u001b[1;32mNone\u001b[0m\u001b[1;33m,\u001b[0m \u001b[0mtest_rnn_size\u001b[0m\u001b[1;33m]\u001b[0m\u001b[1;33m,\u001b[0m\u001b[0;31m \u001b[0m\u001b[0;31m\\\u001b[0m\u001b[1;33m\u001b[0m\u001b[0m\n\u001b[1;32m--> 267\u001b[1;33m             \u001b[1;34m'Final state wrong shape.  Found shape {}'\u001b[0m\u001b[1;33m.\u001b[0m\u001b[0mformat\u001b[0m\u001b[1;33m(\u001b[0m\u001b[0mfinal_state\u001b[0m\u001b[1;33m.\u001b[0m\u001b[0mget_shape\u001b[0m\u001b[1;33m(\u001b[0m\u001b[1;33m)\u001b[0m\u001b[1;33m)\u001b[0m\u001b[1;33m\u001b[0m\u001b[0m\n\u001b[0m\u001b[0;32m    268\u001b[0m \u001b[1;33m\u001b[0m\u001b[0m\n\u001b[0;32m    269\u001b[0m     \u001b[0m_print_success_message\u001b[0m\u001b[1;33m(\u001b[0m\u001b[1;33m)\u001b[0m\u001b[1;33m\u001b[0m\u001b[0m\n",
      "\u001b[1;31mAssertionError\u001b[0m: Final state wrong shape.  Found shape (2, 2, 128, 256)"
     ]
    }
   ],
   "source": [
    "def build_nn(cell, rnn_size, input_data, vocab_size, embed_dim):\n",
    "    \"\"\"\n",
    "    Build part of the neural network\n",
    "    :param cell: RNN cell\n",
    "    :param rnn_size: Size of rnns\n",
    "    :param input_data: Input data\n",
    "    :param vocab_size: Vocabulary size\n",
    "    :param embed_dim: Number of embedding dimensions\n",
    "    :return: Tuple (Logits, FinalState)\n",
    "    \"\"\"\n",
    "    # TODO: Implement Function\n",
    "    embed = get_embed(input_data, vocab_size, embed_dim)\n",
    "    \n",
    "    #run RNN\n",
    "    outputs, final_state = build_rnn(cell, embed)\n",
    "    \n",
    "    #connect the RNN outputs\n",
    "    logits = tf.contrib.layers.fully_connected(outputs, vocab_size,\n",
    "                                               weights_initializer=tf.truncated_normal_initializer(stddev=0.1),\n",
    "                                               biases_initializer=tf.zeros_initializer(),\n",
    "                                               activation_fn=None)\n",
    "    \n",
    "    return logits, final_state\n",
    "\n",
    "\n",
    "\"\"\"\n",
    "DON'T MODIFY ANYTHING IN THIS CELL THAT IS BELOW THIS LINE\n",
    "\"\"\"\n",
    "tests.test_build_nn(build_nn)"
   ]
  },
  {
   "cell_type": "markdown",
   "metadata": {},
   "source": [
    "### Batches\n",
    "Implement `get_batches` to create batches of input and targets using `int_text`.  The batches should be a Numpy array with the shape `(number of batches, 2, batch size, sequence length)`. Each batch contains two elements:\n",
    "- The first element is a single batch of **input** with the shape `[batch size, sequence length]`\n",
    "- The second element is a single batch of **targets** with the shape `[batch size, sequence length]`\n",
    "\n",
    "If you can't fill the last batch with enough data, drop the last batch.\n",
    "\n",
    "For example, `get_batches([1, 2, 3, 4, 5, 6, 7, 8, 9, 10, 11, 12, 13, 14, 15, 16, 17, 18, 19, 20], 3, 2)` would return a Numpy array of the following:\n",
    "```\n",
    "[\n",
    "  # First Batch\n",
    "  [\n",
    "    # Batch of Input\n",
    "    [[ 1  2], [ 7  8], [13 14]]\n",
    "    # Batch of targets\n",
    "    [[ 2  3], [ 8  9], [14 15]]\n",
    "  ]\n",
    "\n",
    "  # Second Batch\n",
    "  [\n",
    "    # Batch of Input\n",
    "    [[ 3  4], [ 9 10], [15 16]]\n",
    "    # Batch of targets\n",
    "    [[ 4  5], [10 11], [16 17]]\n",
    "  ]\n",
    "\n",
    "  # Third Batch\n",
    "  [\n",
    "    # Batch of Input\n",
    "    [[ 5  6], [11 12], [17 18]]\n",
    "    # Batch of targets\n",
    "    [[ 6  7], [12 13], [18  1]]\n",
    "  ]\n",
    "]\n",
    "```\n",
    "\n",
    "Notice that the last target value in the last batch is the first input value of the first batch. In this case, `1`. This is a common technique used when creating sequence batches, although it is rather unintuitive."
   ]
  },
  {
   "cell_type": "code",
   "execution_count": 30,
   "metadata": {},
   "outputs": [
    {
     "name": "stdout",
     "output_type": "stream",
     "text": [
      "Tests Passed\n"
     ]
    }
   ],
   "source": [
    "def get_batches(int_text, batch_size, seq_length):\n",
    "    \"\"\"\n",
    "    Return batches of input and target\n",
    "    :param int_text: Text with the words replaced by their ids\n",
    "    :param batch_size: The size of batch\n",
    "    :param seq_length: The length of sequence\n",
    "    :return: Batches as a Numpy array\n",
    "    \"\"\"\n",
    "    # TODO: Implement Function\n",
    "    chars_per_batch = batch_size * seq_length\n",
    "    n_batches = len(int_text)//(chars_per_batch)\n",
    "\n",
    "    x = np.array(int_text[: n_batches * chars_per_batch])\n",
    "    y = np.array(int_text[1: n_batches * chars_per_batch + 1])\n",
    "    y[-1] = x[0]  \n",
    "    \n",
    "    x = x.reshape(batch_size, -1)\n",
    "    y = y.reshape(batch_size, -1)\n",
    "    \n",
    "    x_batches = np.split(x, n_batches, 1)\n",
    "    y_batches = np.split(y, n_batches, 1)\n",
    "    \n",
    "    return np.array(list(zip(x_batches, y_batches)))\n",
    "\n",
    "\"\"\"\n",
    "DON'T MODIFY ANYTHING IN THIS CELL THAT IS BELOW THIS LINE\n",
    "\"\"\"\n",
    "tests.test_get_batches(get_batches)"
   ]
  },
  {
   "cell_type": "markdown",
   "metadata": {},
   "source": [
    "## Neural Network Training\n",
    "### Hyperparameters\n",
    "Tune the following parameters:\n",
    "\n",
    "- Set `num_epochs` to the number of epochs.\n",
    "- Set `batch_size` to the batch size.\n",
    "- Set `rnn_size` to the size of the RNNs.\n",
    "- Set `embed_dim` to the size of the embedding.\n",
    "- Set `seq_length` to the length of sequence.\n",
    "- Set `learning_rate` to the learning rate.\n",
    "- Set `show_every_n_batches` to the number of batches the neural network should print progress."
   ]
  },
  {
   "cell_type": "code",
   "execution_count": 31,
   "metadata": {},
   "outputs": [],
   "source": [
    "# Number of Epochs\n",
    "num_epochs = 500\n",
    "# Batch Size\n",
    "batch_size = 128\n",
    "# RNN Size\n",
    "rnn_size = 512\n",
    "# Embedding Dimension Size\n",
    "embed_dim = 32\n",
    "# Sequence Length\n",
    "seq_length = 10\n",
    "# Learning Rate\n",
    "learning_rate = 0.001\n",
    "# Show stats for every n number of batches\n",
    "show_every_n_batches = 100\n",
    "\n",
    "\"\"\"\n",
    "DON'T MODIFY ANYTHING IN THIS CELL THAT IS BELOW THIS LINE\n",
    "\"\"\"\n",
    "save_dir = './save'"
   ]
  },
  {
   "cell_type": "markdown",
   "metadata": {},
   "source": [
    "### Build the Graph\n",
    "Build the graph using the neural network you implemented."
   ]
  },
  {
   "cell_type": "code",
   "execution_count": 32,
   "metadata": {},
   "outputs": [],
   "source": [
    "\"\"\"\n",
    "DON'T MODIFY ANYTHING IN THIS CELL\n",
    "\"\"\"\n",
    "from tensorflow.contrib import seq2seq\n",
    "\n",
    "train_graph = tf.Graph()\n",
    "with train_graph.as_default():\n",
    "    vocab_size = len(int_to_vocab)\n",
    "    input_text, targets, lr = get_inputs()\n",
    "    input_data_shape = tf.shape(input_text)\n",
    "    cell, initial_state = get_init_cell(input_data_shape[0], rnn_size)\n",
    "    logits, final_state = build_nn(cell, rnn_size, input_text, vocab_size, embed_dim)\n",
    "\n",
    "    # Probabilities for generating words\n",
    "    probs = tf.nn.softmax(logits, name='probs')\n",
    "\n",
    "    # Loss function\n",
    "    cost = seq2seq.sequence_loss(\n",
    "        logits,\n",
    "        targets,\n",
    "        tf.ones([input_data_shape[0], input_data_shape[1]]))\n",
    "\n",
    "    # Optimizer\n",
    "    optimizer = tf.train.AdamOptimizer(lr)\n",
    "\n",
    "    # Gradient Clipping\n",
    "    gradients = optimizer.compute_gradients(cost)\n",
    "    capped_gradients = [(tf.clip_by_value(grad, -1., 1.), var) for grad, var in gradients if grad is not None]\n",
    "    train_op = optimizer.apply_gradients(capped_gradients)"
   ]
  },
  {
   "cell_type": "markdown",
   "metadata": {},
   "source": [
    "## Train\n",
    "Train the neural network on the preprocessed data.  If you have a hard time getting a good loss, check the [forums](https://discussions.udacity.com/) to see if anyone is having the same problem."
   ]
  },
  {
   "cell_type": "code",
   "execution_count": null,
   "metadata": {
    "scrolled": true
   },
   "outputs": [
    {
     "name": "stdout",
     "output_type": "stream",
     "text": [
      "Epoch   0 Batch    0/53   train_loss = 8.862\n",
      "Epoch   1 Batch   47/53   train_loss = 5.871\n",
      "Epoch   3 Batch   41/53   train_loss = 5.562\n",
      "Epoch   5 Batch   35/53   train_loss = 5.387\n",
      "Epoch   7 Batch   29/53   train_loss = 5.261\n",
      "Epoch   9 Batch   23/53   train_loss = 5.105\n",
      "Epoch  11 Batch   17/53   train_loss = 4.870\n",
      "Epoch  13 Batch   11/53   train_loss = 4.638\n",
      "Epoch  15 Batch    5/53   train_loss = 4.644\n",
      "Epoch  16 Batch   52/53   train_loss = 4.408\n",
      "Epoch  18 Batch   46/53   train_loss = 4.382\n",
      "Epoch  20 Batch   40/53   train_loss = 4.332\n",
      "Epoch  22 Batch   34/53   train_loss = 4.144\n",
      "Epoch  24 Batch   28/53   train_loss = 3.928\n",
      "Epoch  26 Batch   22/53   train_loss = 3.806\n",
      "Epoch  28 Batch   16/53   train_loss = 3.802\n",
      "Epoch  30 Batch   10/53   train_loss = 3.551\n",
      "Epoch  32 Batch    4/53   train_loss = 3.575\n",
      "Epoch  33 Batch   51/53   train_loss = 3.443\n",
      "Epoch  35 Batch   45/53   train_loss = 3.245\n",
      "Epoch  37 Batch   39/53   train_loss = 3.121\n",
      "Epoch  39 Batch   33/53   train_loss = 3.038\n",
      "Epoch  41 Batch   27/53   train_loss = 2.891\n",
      "Epoch  43 Batch   21/53   train_loss = 2.853\n",
      "Epoch  45 Batch   15/53   train_loss = 2.738\n",
      "Epoch  47 Batch    9/53   train_loss = 2.542\n",
      "Epoch  49 Batch    3/53   train_loss = 2.418\n",
      "Epoch  50 Batch   50/53   train_loss = 2.461\n",
      "Epoch  52 Batch   44/53   train_loss = 2.372\n",
      "Epoch  54 Batch   38/53   train_loss = 2.198\n",
      "Epoch  56 Batch   32/53   train_loss = 2.063\n",
      "Epoch  58 Batch   26/53   train_loss = 2.032\n",
      "Epoch  60 Batch   20/53   train_loss = 1.993\n",
      "Epoch  62 Batch   14/53   train_loss = 1.927\n",
      "Epoch  64 Batch    8/53   train_loss = 1.832\n",
      "Epoch  66 Batch    2/53   train_loss = 1.846\n",
      "Epoch  67 Batch   49/53   train_loss = 1.728\n",
      "Epoch  69 Batch   43/53   train_loss = 1.723\n",
      "Epoch  71 Batch   37/53   train_loss = 1.587\n",
      "Epoch  73 Batch   31/53   train_loss = 1.435\n",
      "Epoch  75 Batch   25/53   train_loss = 1.563\n",
      "Epoch  77 Batch   19/53   train_loss = 1.504\n",
      "Epoch  79 Batch   13/53   train_loss = 1.461\n",
      "Epoch  81 Batch    7/53   train_loss = 1.378\n",
      "Epoch  83 Batch    1/53   train_loss = 1.267\n",
      "Epoch  84 Batch   48/53   train_loss = 1.232\n",
      "Epoch  86 Batch   42/53   train_loss = 1.151\n",
      "Epoch  88 Batch   36/53   train_loss = 1.161\n",
      "Epoch  90 Batch   30/53   train_loss = 1.181\n",
      "Epoch  92 Batch   24/53   train_loss = 1.044\n",
      "Epoch  94 Batch   18/53   train_loss = 1.064\n",
      "Epoch  96 Batch   12/53   train_loss = 0.982\n",
      "Epoch  98 Batch    6/53   train_loss = 0.944\n",
      "Epoch 100 Batch    0/53   train_loss = 0.980\n",
      "Epoch 101 Batch   47/53   train_loss = 0.851\n",
      "Epoch 103 Batch   41/53   train_loss = 0.827\n",
      "Epoch 105 Batch   35/53   train_loss = 0.775\n",
      "Epoch 107 Batch   29/53   train_loss = 0.791\n",
      "Epoch 109 Batch   23/53   train_loss = 0.818\n",
      "Epoch 111 Batch   17/53   train_loss = 0.733\n",
      "Epoch 113 Batch   11/53   train_loss = 0.743\n",
      "Epoch 115 Batch    5/53   train_loss = 0.800\n",
      "Epoch 116 Batch   52/53   train_loss = 0.744\n",
      "Epoch 118 Batch   46/53   train_loss = 0.703\n",
      "Epoch 120 Batch   40/53   train_loss = 0.705\n",
      "Epoch 122 Batch   34/53   train_loss = 0.683\n",
      "Epoch 124 Batch   28/53   train_loss = 0.638\n",
      "Epoch 126 Batch   22/53   train_loss = 0.650\n",
      "Epoch 128 Batch   16/53   train_loss = 0.648\n",
      "Epoch 130 Batch   10/53   train_loss = 0.619\n",
      "Epoch 132 Batch    4/53   train_loss = 0.622\n",
      "Epoch 133 Batch   51/53   train_loss = 0.571\n",
      "Epoch 135 Batch   45/53   train_loss = 0.620\n",
      "Epoch 137 Batch   39/53   train_loss = 0.610\n",
      "Epoch 139 Batch   33/53   train_loss = 0.601\n",
      "Epoch 141 Batch   27/53   train_loss = 0.570\n",
      "Epoch 143 Batch   21/53   train_loss = 0.561\n",
      "Epoch 145 Batch   15/53   train_loss = 0.564\n",
      "Epoch 147 Batch    9/53   train_loss = 0.498\n",
      "Epoch 149 Batch    3/53   train_loss = 0.538\n",
      "Epoch 150 Batch   50/53   train_loss = 0.529\n",
      "Epoch 152 Batch   44/53   train_loss = 0.506\n",
      "Epoch 154 Batch   38/53   train_loss = 0.566\n",
      "Epoch 156 Batch   32/53   train_loss = 0.451\n",
      "Epoch 158 Batch   26/53   train_loss = 0.451\n",
      "Epoch 160 Batch   20/53   train_loss = 0.454\n",
      "Epoch 162 Batch   14/53   train_loss = 0.518\n",
      "Epoch 164 Batch    8/53   train_loss = 0.435\n",
      "Epoch 166 Batch    2/53   train_loss = 0.491\n",
      "Epoch 167 Batch   49/53   train_loss = 0.471\n",
      "Epoch 169 Batch   43/53   train_loss = 0.469\n",
      "Epoch 171 Batch   37/53   train_loss = 0.435\n",
      "Epoch 173 Batch   31/53   train_loss = 0.453\n",
      "Epoch 175 Batch   25/53   train_loss = 0.449\n",
      "Epoch 177 Batch   19/53   train_loss = 0.425\n",
      "Epoch 179 Batch   13/53   train_loss = 0.438\n",
      "Epoch 181 Batch    7/53   train_loss = 0.433\n",
      "Epoch 183 Batch    1/53   train_loss = 0.405\n",
      "Epoch 184 Batch   48/53   train_loss = 0.427\n",
      "Epoch 186 Batch   42/53   train_loss = 0.433\n",
      "Epoch 188 Batch   36/53   train_loss = 0.442\n",
      "Epoch 190 Batch   30/53   train_loss = 0.429\n",
      "Epoch 192 Batch   24/53   train_loss = 0.365\n",
      "Epoch 194 Batch   18/53   train_loss = 0.409\n",
      "Epoch 196 Batch   12/53   train_loss = 0.410\n",
      "Epoch 198 Batch    6/53   train_loss = 0.396\n",
      "Epoch 200 Batch    0/53   train_loss = 0.440\n",
      "Epoch 201 Batch   47/53   train_loss = 0.401\n",
      "Epoch 203 Batch   41/53   train_loss = 0.393\n",
      "Epoch 205 Batch   35/53   train_loss = 0.380\n",
      "Epoch 207 Batch   29/53   train_loss = 0.411\n",
      "Epoch 209 Batch   23/53   train_loss = 0.432\n",
      "Epoch 211 Batch   17/53   train_loss = 0.382\n",
      "Epoch 213 Batch   11/53   train_loss = 0.407\n",
      "Epoch 215 Batch    5/53   train_loss = 0.426\n",
      "Epoch 216 Batch   52/53   train_loss = 0.425\n",
      "Epoch 218 Batch   46/53   train_loss = 0.373\n",
      "Epoch 220 Batch   40/53   train_loss = 0.412\n",
      "Epoch 222 Batch   34/53   train_loss = 0.381\n",
      "Epoch 224 Batch   28/53   train_loss = 0.372\n",
      "Epoch 226 Batch   22/53   train_loss = 0.395\n",
      "Epoch 228 Batch   16/53   train_loss = 0.395\n",
      "Epoch 230 Batch   10/53   train_loss = 0.384\n",
      "Epoch 232 Batch    4/53   train_loss = 0.403\n",
      "Epoch 233 Batch   51/53   train_loss = 0.371\n",
      "Epoch 235 Batch   45/53   train_loss = 0.379\n",
      "Epoch 237 Batch   39/53   train_loss = 0.380\n",
      "Epoch 239 Batch   33/53   train_loss = 0.385\n",
      "Epoch 241 Batch   27/53   train_loss = 0.397\n",
      "Epoch 243 Batch   21/53   train_loss = 0.365\n",
      "Epoch 245 Batch   15/53   train_loss = 0.371\n",
      "Epoch 247 Batch    9/53   train_loss = 0.363\n",
      "Epoch 249 Batch    3/53   train_loss = 0.379\n",
      "Epoch 250 Batch   50/53   train_loss = 0.385\n",
      "Epoch 252 Batch   44/53   train_loss = 0.379\n",
      "Epoch 254 Batch   38/53   train_loss = 0.418\n",
      "Epoch 256 Batch   32/53   train_loss = 0.338\n",
      "Epoch 258 Batch   26/53   train_loss = 0.326\n",
      "Epoch 260 Batch   20/53   train_loss = 0.358\n",
      "Epoch 262 Batch   14/53   train_loss = 0.403\n",
      "Epoch 264 Batch    8/53   train_loss = 0.349\n",
      "Epoch 266 Batch    2/53   train_loss = 0.377\n",
      "Epoch 267 Batch   49/53   train_loss = 0.376\n",
      "Epoch 269 Batch   43/53   train_loss = 0.390\n",
      "Epoch 271 Batch   37/53   train_loss = 0.361\n",
      "Epoch 273 Batch   31/53   train_loss = 0.378\n",
      "Epoch 275 Batch   25/53   train_loss = 0.376\n",
      "Epoch 277 Batch   19/53   train_loss = 0.355\n",
      "Epoch 279 Batch   13/53   train_loss = 0.381\n",
      "Epoch 281 Batch    7/53   train_loss = 0.369\n",
      "Epoch 283 Batch    1/53   train_loss = 0.360\n",
      "Epoch 284 Batch   48/53   train_loss = 0.359\n",
      "Epoch 286 Batch   42/53   train_loss = 0.371\n",
      "Epoch 288 Batch   36/53   train_loss = 0.381\n",
      "Epoch 290 Batch   30/53   train_loss = 0.376\n",
      "Epoch 292 Batch   24/53   train_loss = 0.313\n",
      "Epoch 294 Batch   18/53   train_loss = 0.364\n",
      "Epoch 296 Batch   12/53   train_loss = 0.369\n",
      "Epoch 298 Batch    6/53   train_loss = 0.350\n",
      "Epoch 300 Batch    0/53   train_loss = 0.392\n",
      "Epoch 301 Batch   47/53   train_loss = 0.350\n",
      "Epoch 303 Batch   41/53   train_loss = 0.361\n",
      "Epoch 305 Batch   35/53   train_loss = 0.342\n",
      "Epoch 307 Batch   29/53   train_loss = 0.362\n",
      "Epoch 309 Batch   23/53   train_loss = 0.380\n",
      "Epoch 311 Batch   17/53   train_loss = 0.338\n",
      "Epoch 313 Batch   11/53   train_loss = 0.366\n",
      "Epoch 315 Batch    5/53   train_loss = 0.386\n",
      "Epoch 316 Batch   52/53   train_loss = 0.380\n",
      "Epoch 318 Batch   46/53   train_loss = 0.342\n",
      "Epoch 320 Batch   40/53   train_loss = 0.385\n",
      "Epoch 322 Batch   34/53   train_loss = 0.351\n",
      "Epoch 324 Batch   28/53   train_loss = 0.340\n",
      "Epoch 326 Batch   22/53   train_loss = 0.366\n",
      "Epoch 328 Batch   16/53   train_loss = 0.361\n",
      "Epoch 330 Batch   10/53   train_loss = 0.350\n",
      "Epoch 332 Batch    4/53   train_loss = 0.381\n",
      "Epoch 333 Batch   51/53   train_loss = 0.348\n",
      "Epoch 335 Batch   45/53   train_loss = 0.347\n",
      "Epoch 337 Batch   39/53   train_loss = 0.355\n",
      "Epoch 339 Batch   33/53   train_loss = 0.359\n",
      "Epoch 341 Batch   27/53   train_loss = 0.383\n",
      "Epoch 343 Batch   21/53   train_loss = 0.342\n"
     ]
    },
    {
     "name": "stdout",
     "output_type": "stream",
     "text": [
      "Epoch 345 Batch   15/53   train_loss = 0.362\n",
      "Epoch 347 Batch    9/53   train_loss = 0.348\n",
      "Epoch 349 Batch    3/53   train_loss = 0.371\n",
      "Epoch 350 Batch   50/53   train_loss = 0.374\n",
      "Epoch 352 Batch   44/53   train_loss = 0.364\n",
      "Epoch 354 Batch   38/53   train_loss = 0.407\n",
      "Epoch 356 Batch   32/53   train_loss = 0.662\n",
      "Epoch 358 Batch   26/53   train_loss = 0.424\n",
      "Epoch 360 Batch   20/53   train_loss = 0.361\n",
      "Epoch 362 Batch   14/53   train_loss = 0.389\n",
      "Epoch 364 Batch    8/53   train_loss = 0.334\n",
      "Epoch 366 Batch    2/53   train_loss = 0.368\n",
      "Epoch 367 Batch   49/53   train_loss = 0.360\n",
      "Epoch 369 Batch   43/53   train_loss = 0.372\n",
      "Epoch 371 Batch   37/53   train_loss = 0.347\n",
      "Epoch 373 Batch   31/53   train_loss = 0.363\n",
      "Epoch 375 Batch   25/53   train_loss = 0.366\n",
      "Epoch 377 Batch   19/53   train_loss = 0.346\n",
      "Epoch 379 Batch   13/53   train_loss = 0.369\n",
      "Epoch 381 Batch    7/53   train_loss = 0.355\n",
      "Epoch 383 Batch    1/53   train_loss = 0.352\n",
      "Epoch 384 Batch   48/53   train_loss = 0.346\n",
      "Epoch 386 Batch   42/53   train_loss = 0.362\n",
      "Epoch 388 Batch   36/53   train_loss = 0.373\n",
      "Epoch 390 Batch   30/53   train_loss = 0.365\n",
      "Epoch 392 Batch   24/53   train_loss = 0.305\n",
      "Epoch 394 Batch   18/53   train_loss = 0.357\n",
      "Epoch 396 Batch   12/53   train_loss = 0.363\n",
      "Epoch 398 Batch    6/53   train_loss = 0.341\n",
      "Epoch 400 Batch    0/53   train_loss = 0.384\n",
      "Epoch 401 Batch   47/53   train_loss = 0.344\n",
      "Epoch 403 Batch   41/53   train_loss = 0.355\n",
      "Epoch 405 Batch   35/53   train_loss = 0.338\n",
      "Epoch 407 Batch   29/53   train_loss = 0.352\n",
      "Epoch 409 Batch   23/53   train_loss = 0.373\n",
      "Epoch 411 Batch   17/53   train_loss = 0.333\n",
      "Epoch 413 Batch   11/53   train_loss = 0.362\n",
      "Epoch 415 Batch    5/53   train_loss = 0.384\n",
      "Epoch 416 Batch   52/53   train_loss = 0.375\n",
      "Epoch 418 Batch   46/53   train_loss = 0.338\n",
      "Epoch 420 Batch   40/53   train_loss = 0.377\n",
      "Epoch 422 Batch   34/53   train_loss = 0.345\n",
      "Epoch 424 Batch   28/53   train_loss = 0.334\n",
      "Epoch 426 Batch   22/53   train_loss = 0.361\n",
      "Epoch 428 Batch   16/53   train_loss = 0.354\n",
      "Epoch 430 Batch   10/53   train_loss = 0.344\n",
      "Epoch 432 Batch    4/53   train_loss = 0.375\n",
      "Epoch 433 Batch   51/53   train_loss = 0.340\n",
      "Epoch 435 Batch   45/53   train_loss = 0.343\n",
      "Epoch 437 Batch   39/53   train_loss = 0.350\n",
      "Epoch 439 Batch   33/53   train_loss = 0.355\n",
      "Epoch 441 Batch   27/53   train_loss = 0.375\n",
      "Epoch 443 Batch   21/53   train_loss = 0.337\n",
      "Epoch 445 Batch   15/53   train_loss = 0.356\n",
      "Epoch 447 Batch    9/53   train_loss = 0.345\n",
      "Epoch 449 Batch    3/53   train_loss = 0.363\n",
      "Epoch 450 Batch   50/53   train_loss = 0.367\n",
      "Epoch 452 Batch   44/53   train_loss = 0.362\n",
      "Epoch 454 Batch   38/53   train_loss = 0.399\n",
      "Epoch 456 Batch   32/53   train_loss = 0.324\n",
      "Epoch 458 Batch   26/53   train_loss = 0.312\n",
      "Epoch 460 Batch   20/53   train_loss = 0.345\n",
      "Epoch 462 Batch   14/53   train_loss = 0.385\n",
      "Epoch 464 Batch    8/53   train_loss = 0.333\n",
      "Epoch 466 Batch    2/53   train_loss = 0.364\n",
      "Epoch 467 Batch   49/53   train_loss = 0.359\n",
      "Epoch 469 Batch   43/53   train_loss = 0.368\n",
      "Epoch 471 Batch   37/53   train_loss = 0.347\n",
      "Epoch 473 Batch   31/53   train_loss = 0.364\n",
      "Epoch 475 Batch   25/53   train_loss = 0.364\n",
      "Epoch 477 Batch   19/53   train_loss = 0.344\n",
      "Epoch 479 Batch   13/53   train_loss = 0.367\n",
      "Epoch 481 Batch    7/53   train_loss = 0.355\n",
      "Epoch 483 Batch    1/53   train_loss = 0.349\n",
      "Epoch 484 Batch   48/53   train_loss = 0.342\n",
      "Epoch 486 Batch   42/53   train_loss = 0.362\n",
      "Epoch 488 Batch   36/53   train_loss = 0.370\n"
     ]
    }
   ],
   "source": [
    "\"\"\"\n",
    "DON'T MODIFY ANYTHING IN THIS CELL\n",
    "\"\"\"\n",
    "batches = get_batches(int_text, batch_size, seq_length)\n",
    "\n",
    "with tf.Session(graph=train_graph) as sess:\n",
    "    sess.run(tf.global_variables_initializer())\n",
    "\n",
    "    for epoch_i in range(num_epochs):\n",
    "        state = sess.run(initial_state, {input_text: batches[0][0]})\n",
    "\n",
    "        for batch_i, (x, y) in enumerate(batches):\n",
    "            feed = {\n",
    "                input_text: x,\n",
    "                targets: y,\n",
    "                initial_state: state,\n",
    "                lr: learning_rate}\n",
    "            train_loss, state, _ = sess.run([cost, final_state, train_op], feed)\n",
    "\n",
    "            # Show every <show_every_n_batches> batches\n",
    "            if (epoch_i * len(batches) + batch_i) % show_every_n_batches == 0:\n",
    "                print('Epoch {:>3} Batch {:>4}/{}   train_loss = {:.3f}'.format(\n",
    "                    epoch_i,\n",
    "                    batch_i,\n",
    "                    len(batches),\n",
    "                    train_loss))\n",
    "\n",
    "    # Save Model\n",
    "    saver = tf.train.Saver()\n",
    "    saver.save(sess, save_dir)\n",
    "    print('Model Trained and Saved')"
   ]
  },
  {
   "cell_type": "markdown",
   "metadata": {},
   "source": [
    "## Save Parameters\n",
    "Save `seq_length` and `save_dir` for generating a new TV script."
   ]
  },
  {
   "cell_type": "code",
   "execution_count": 57,
   "metadata": {},
   "outputs": [],
   "source": [
    "\"\"\"\n",
    "DON'T MODIFY ANYTHING IN THIS CELL\n",
    "\"\"\"\n",
    "# Save parameters for checkpoint\n",
    "helper.save_params((seq_length, save_dir))"
   ]
  },
  {
   "cell_type": "markdown",
   "metadata": {},
   "source": [
    "# Checkpoint"
   ]
  },
  {
   "cell_type": "code",
   "execution_count": 58,
   "metadata": {},
   "outputs": [],
   "source": [
    "\"\"\"\n",
    "DON'T MODIFY ANYTHING IN THIS CELL\n",
    "\"\"\"\n",
    "import tensorflow as tf\n",
    "import numpy as np\n",
    "import helper\n",
    "import problem_unittests as tests\n",
    "\n",
    "_, vocab_to_int, int_to_vocab, token_dict = helper.load_preprocess()\n",
    "seq_length, load_dir = helper.load_params()"
   ]
  },
  {
   "cell_type": "markdown",
   "metadata": {},
   "source": [
    "## Implement Generate Functions\n",
    "### Get Tensors\n",
    "Get tensors from `loaded_graph` using the function [`get_tensor_by_name()`](https://www.tensorflow.org/api_docs/python/tf/Graph#get_tensor_by_name).  Get the tensors using the following names:\n",
    "- \"input:0\"\n",
    "- \"initial_state:0\"\n",
    "- \"final_state:0\"\n",
    "- \"probs:0\"\n",
    "\n",
    "Return the tensors in the following tuple `(InputTensor, InitialStateTensor, FinalStateTensor, ProbsTensor)` "
   ]
  },
  {
   "cell_type": "code",
   "execution_count": 59,
   "metadata": {},
   "outputs": [
    {
     "name": "stdout",
     "output_type": "stream",
     "text": [
      "Tests Passed\n"
     ]
    }
   ],
   "source": [
    "def get_tensors(loaded_graph):\n",
    "    \"\"\"\n",
    "    Get input, initial state, final state, and probabilities tensor from <loaded_graph>\n",
    "    :param loaded_graph: TensorFlow graph loaded from file\n",
    "    :return: Tuple (InputTensor, InitialStateTensor, FinalStateTensor, ProbsTensor)\n",
    "    \"\"\"\n",
    "    # TODO: Implement Function\n",
    "    input_tensor = loaded_graph.get_tensor_by_name('input:0')\n",
    "    initial_state_tensor = loaded_graph.get_tensor_by_name('initial_state:0')\n",
    "    final_state_tensor = loaded_graph.get_tensor_by_name('final_state:0')\n",
    "    probs_tensor = loaded_graph.get_tensor_by_name('probs:0')\n",
    "    \n",
    "    return input_tensor, initial_state_tensor, final_state_tensor, probs_tensor\n",
    "\n",
    "\n",
    "\"\"\"\n",
    "DON'T MODIFY ANYTHING IN THIS CELL THAT IS BELOW THIS LINE\n",
    "\"\"\"\n",
    "tests.test_get_tensors(get_tensors)"
   ]
  },
  {
   "cell_type": "markdown",
   "metadata": {},
   "source": [
    "### Choose Word\n",
    "Implement the `pick_word()` function to select the next word using `probabilities`."
   ]
  },
  {
   "cell_type": "code",
   "execution_count": 60,
   "metadata": {},
   "outputs": [
    {
     "name": "stdout",
     "output_type": "stream",
     "text": [
      "Tests Passed\n"
     ]
    }
   ],
   "source": [
    "def pick_word(probabilities, int_to_vocab):\n",
    "    \"\"\"\n",
    "    Pick the next word in the generated text\n",
    "    :param probabilities: Probabilites of the next word\n",
    "    :param int_to_vocab: Dictionary of word ids as the keys and words as the values\n",
    "    :return: String of the predicted word\n",
    "    \"\"\"\n",
    "    # TODO: Implement Function\n",
    "    probabilities[np.argsort(probabilities)[:-10]] = 0\n",
    "    p = probabilities / np.sum(probabilities)\n",
    "    w = np.random.choice(len(int_to_vocab), 1, p=p)[0]\n",
    "    pred_word = int_to_vocab[w]\n",
    "    \n",
    "    return pred_word\n",
    "\n",
    "\n",
    "\"\"\"\n",
    "DON'T MODIFY ANYTHING IN THIS CELL THAT IS BELOW THIS LINE\n",
    "\"\"\"\n",
    "tests.test_pick_word(pick_word)"
   ]
  },
  {
   "cell_type": "markdown",
   "metadata": {},
   "source": [
    "## Generate TV Script\n",
    "This will generate the TV script for you.  Set `gen_length` to the length of TV script you want to generate."
   ]
  },
  {
   "cell_type": "code",
   "execution_count": 61,
   "metadata": {},
   "outputs": [
    {
     "name": "stdout",
     "output_type": "stream",
     "text": [
      "INFO:tensorflow:Restoring parameters from ./save\n",
      "moe_szyslak: our little hero sure likes kahlua and cream.\n",
      "kemi: i got it out. my new year's resolution was, moe!(could homer) you're little... you've got a as long i've heard you're a pig. i like a lot of nerve the back room and that own the\" flaming homers\"\" tonight.\" homer_simpson: right. i do is.\n",
      "homer_simpson: lisa's mad at my face? i'm a for barney.\n",
      "barney_gumble: but i don't wanna get this new liver.\n",
      "homer_simpson: thanks.(dashes out) i just sits on that...(looking around chuckle)\n",
      "johnny_carson: now, i'm just love happier.\n",
      "marge_simpson: well, i could have written to buy you a little, pal.\n",
      "homer_simpson: moe, i think i could homer! you must be home, because he might be that's why i let you smile, homer simpson we're gonna pass you nice more these?\n",
      "homer_simpson:(upbeat) it's on my god!(worried) we're too late.\n",
      "moe_szyslak: nobody, now\n"
     ]
    }
   ],
   "source": [
    "gen_length = 200\n",
    "# homer_simpson, moe_szyslak, or Barney_Gumble\n",
    "prime_word = 'moe_szyslak'\n",
    "\n",
    "\"\"\"\n",
    "DON'T MODIFY ANYTHING IN THIS CELL THAT IS BELOW THIS LINE\n",
    "\"\"\"\n",
    "loaded_graph = tf.Graph()\n",
    "with tf.Session(graph=loaded_graph) as sess:\n",
    "    # Load saved model\n",
    "    loader = tf.train.import_meta_graph(load_dir + '.meta')\n",
    "    loader.restore(sess, load_dir)\n",
    "\n",
    "    # Get Tensors from loaded model\n",
    "    input_text, initial_state, final_state, probs = get_tensors(loaded_graph)\n",
    "\n",
    "    # Sentences generation setup\n",
    "    gen_sentences = [prime_word + ':']\n",
    "    prev_state = sess.run(initial_state, {input_text: np.array([[1]])})\n",
    "\n",
    "    # Generate sentences\n",
    "    for n in range(gen_length):\n",
    "        # Dynamic Input\n",
    "        dyn_input = [[vocab_to_int[word] for word in gen_sentences[-seq_length:]]]\n",
    "        dyn_seq_length = len(dyn_input[0])\n",
    "\n",
    "        # Get Prediction\n",
    "        probabilities, prev_state = sess.run(\n",
    "            [probs, final_state],\n",
    "            {input_text: dyn_input, initial_state: prev_state})\n",
    "        \n",
    "        pred_word = pick_word(probabilities[0][dyn_seq_length-1], int_to_vocab)\n",
    "\n",
    "        gen_sentences.append(pred_word)\n",
    "    \n",
    "    # Remove tokens\n",
    "    tv_script = ' '.join(gen_sentences)\n",
    "    for key, token in token_dict.items():\n",
    "        ending = ' ' if key in ['\\n', '(', '\"'] else ''\n",
    "        tv_script = tv_script.replace(' ' + token.lower(), key)\n",
    "    tv_script = tv_script.replace('\\n ', '\\n')\n",
    "    tv_script = tv_script.replace('( ', '(')\n",
    "        \n",
    "    print(tv_script)"
   ]
  },
  {
   "cell_type": "markdown",
   "metadata": {},
   "source": [
    "# The TV Script is Nonsensical\n",
    "It's ok if the TV script doesn't make any sense.  We trained on less than a megabyte of text.  In order to get good results, you'll have to use a smaller vocabulary or get more data.  Luckily there's more data!  As we mentioned in the beggining of this project, this is a subset of [another dataset](https://www.kaggle.com/wcukierski/the-simpsons-by-the-data).  We didn't have you train on all the data, because that would take too long.  However, you are free to train your neural network on all the data.  After you complete the project, of course.\n",
    "# Submitting This Project\n",
    "When submitting this project, make sure to run all the cells before saving the notebook. Save the notebook file as \"dlnd_tv_script_generation.ipynb\" and save it as a HTML file under \"File\" -> \"Download as\". Include the \"helper.py\" and \"problem_unittests.py\" files in your submission."
   ]
  }
 ],
 "metadata": {
  "kernelspec": {
   "display_name": "Python 3",
   "language": "python",
   "name": "python3"
  },
  "language_info": {
   "codemirror_mode": {
    "name": "ipython",
    "version": 3
   },
   "file_extension": ".py",
   "mimetype": "text/x-python",
   "name": "python",
   "nbconvert_exporter": "python",
   "pygments_lexer": "ipython3",
   "version": "3.6.5"
  },
  "widgets": {
   "state": {},
   "version": "1.1.2"
  }
 },
 "nbformat": 4,
 "nbformat_minor": 1
}
